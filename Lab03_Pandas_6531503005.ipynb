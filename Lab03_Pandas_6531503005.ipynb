{
 "cells": [
  {
   "cell_type": "markdown",
   "id": "1efb4d42",
   "metadata": {},
   "source": [
    "# 2. Pandas Exercises \n",
    "\n",
    "Fill in the blanks with the instruction code for a fulfilled program."
   ]
  },
  {
   "cell_type": "markdown",
   "id": "5ebbea3c",
   "metadata": {},
   "source": [
    "#### Import pandas"
   ]
  },
  {
   "cell_type": "code",
   "execution_count": 2,
   "id": "d9078875",
   "metadata": {},
   "outputs": [],
   "source": [
    "import pandas as pd"
   ]
  },
  {
   "cell_type": "markdown",
   "id": "1c710672",
   "metadata": {},
   "source": [
    "#### Create a series\n",
    "create a list of series-> s1= [3, 2, 0, 1] and s2 =[0, 3, 7, 2] then convert them to the Data frame set column in \"apple\" and \"orange\" "
   ]
  },
  {
   "cell_type": "code",
   "execution_count": 5,
   "id": "cdbd763c",
   "metadata": {},
   "outputs": [
    {
     "data": {
      "text/html": [
       "<div>\n",
       "<style scoped>\n",
       "    .dataframe tbody tr th:only-of-type {\n",
       "        vertical-align: middle;\n",
       "    }\n",
       "\n",
       "    .dataframe tbody tr th {\n",
       "        vertical-align: top;\n",
       "    }\n",
       "\n",
       "    .dataframe thead th {\n",
       "        text-align: right;\n",
       "    }\n",
       "</style>\n",
       "<table border=\"1\" class=\"dataframe\">\n",
       "  <thead>\n",
       "    <tr style=\"text-align: right;\">\n",
       "      <th></th>\n",
       "      <th>apple</th>\n",
       "      <th>orange</th>\n",
       "    </tr>\n",
       "  </thead>\n",
       "  <tbody>\n",
       "    <tr>\n",
       "      <th>0</th>\n",
       "      <td>3</td>\n",
       "      <td>0</td>\n",
       "    </tr>\n",
       "    <tr>\n",
       "      <th>1</th>\n",
       "      <td>2</td>\n",
       "      <td>3</td>\n",
       "    </tr>\n",
       "    <tr>\n",
       "      <th>2</th>\n",
       "      <td>0</td>\n",
       "      <td>7</td>\n",
       "    </tr>\n",
       "    <tr>\n",
       "      <th>3</th>\n",
       "      <td>1</td>\n",
       "      <td>2</td>\n",
       "    </tr>\n",
       "  </tbody>\n",
       "</table>\n",
       "</div>"
      ],
      "text/plain": [
       "   apple  orange\n",
       "0      3       0\n",
       "1      2       3\n",
       "2      0       7\n",
       "3      1       2"
      ]
     },
     "execution_count": 5,
     "metadata": {},
     "output_type": "execute_result"
    }
   ],
   "source": [
    "#create a series of data first, then convert to data dictionary type\n",
    "s1 = pd.Series([3, 2, 0, 1])\n",
    "s2 = pd.Series([0, 3, 7, 2])\n",
    "\n",
    "dataframe = pd.DataFrame({'apple': s1, 'orange': s2})\n",
    "dataframe \n"
   ]
  },
  {
   "cell_type": "markdown",
   "id": "340caf0a",
   "metadata": {},
   "source": [
    "#### Create a data dictionary of \n",
    "data = {\n",
    "    'weight': [45,50,60,55],  \n",
    "    'height': [155,156,170,160]\n",
    "}"
   ]
  },
  {
   "cell_type": "code",
   "execution_count": 4,
   "id": "75c17f25",
   "metadata": {},
   "outputs": [
    {
     "data": {
      "text/plain": [
       "{'weight': [45, 50, 60, 55], 'height': [155, 156, 170, 160]}"
      ]
     },
     "execution_count": 4,
     "metadata": {},
     "output_type": "execute_result"
    }
   ],
   "source": [
    "#create a data as a dictionary type\n",
    "data = {'weight': [45, 50, 60, 55], 'height': [155, 156, 170, 160]}\n",
    "data"
   ]
  },
  {
   "cell_type": "markdown",
   "id": "e33952ee",
   "metadata": {},
   "source": [
    "#### Create Data Frame in \"df\" from data dictionary"
   ]
  },
  {
   "cell_type": "code",
   "execution_count": 9,
   "id": "f9df0a96",
   "metadata": {},
   "outputs": [
    {
     "data": {
      "text/html": [
       "<div>\n",
       "<style scoped>\n",
       "    .dataframe tbody tr th:only-of-type {\n",
       "        vertical-align: middle;\n",
       "    }\n",
       "\n",
       "    .dataframe tbody tr th {\n",
       "        vertical-align: top;\n",
       "    }\n",
       "\n",
       "    .dataframe thead th {\n",
       "        text-align: right;\n",
       "    }\n",
       "</style>\n",
       "<table border=\"1\" class=\"dataframe\">\n",
       "  <thead>\n",
       "    <tr style=\"text-align: right;\">\n",
       "      <th></th>\n",
       "      <th>weight</th>\n",
       "      <th>height</th>\n",
       "    </tr>\n",
       "  </thead>\n",
       "  <tbody>\n",
       "    <tr>\n",
       "      <th>0</th>\n",
       "      <td>45</td>\n",
       "      <td>155</td>\n",
       "    </tr>\n",
       "    <tr>\n",
       "      <th>1</th>\n",
       "      <td>50</td>\n",
       "      <td>156</td>\n",
       "    </tr>\n",
       "    <tr>\n",
       "      <th>2</th>\n",
       "      <td>60</td>\n",
       "      <td>170</td>\n",
       "    </tr>\n",
       "    <tr>\n",
       "      <th>3</th>\n",
       "      <td>55</td>\n",
       "      <td>160</td>\n",
       "    </tr>\n",
       "  </tbody>\n",
       "</table>\n",
       "</div>"
      ],
      "text/plain": [
       "   weight  height\n",
       "0      45     155\n",
       "1      50     156\n",
       "2      60     170\n",
       "3      55     160"
      ]
     },
     "execution_count": 9,
     "metadata": {},
     "output_type": "execute_result"
    }
   ],
   "source": [
    "# df => pandas DataFrame object\n",
    "df = pd.DataFrame(data)\n",
    "df"
   ]
  },
  {
   "cell_type": "markdown",
   "id": "7c3863bd",
   "metadata": {},
   "source": [
    "#### Set index of Data Frame (df) in ['student#1', 'student#2', 'student#3', 'student#4']"
   ]
  },
  {
   "cell_type": "code",
   "execution_count": 13,
   "id": "12169827",
   "metadata": {},
   "outputs": [
    {
     "data": {
      "text/html": [
       "<div>\n",
       "<style scoped>\n",
       "    .dataframe tbody tr th:only-of-type {\n",
       "        vertical-align: middle;\n",
       "    }\n",
       "\n",
       "    .dataframe tbody tr th {\n",
       "        vertical-align: top;\n",
       "    }\n",
       "\n",
       "    .dataframe thead th {\n",
       "        text-align: right;\n",
       "    }\n",
       "</style>\n",
       "<table border=\"1\" class=\"dataframe\">\n",
       "  <thead>\n",
       "    <tr style=\"text-align: right;\">\n",
       "      <th></th>\n",
       "      <th>weight</th>\n",
       "      <th>height</th>\n",
       "    </tr>\n",
       "  </thead>\n",
       "  <tbody>\n",
       "    <tr>\n",
       "      <th>student#1</th>\n",
       "      <td>45</td>\n",
       "      <td>155</td>\n",
       "    </tr>\n",
       "    <tr>\n",
       "      <th>student#2</th>\n",
       "      <td>50</td>\n",
       "      <td>156</td>\n",
       "    </tr>\n",
       "    <tr>\n",
       "      <th>student#3</th>\n",
       "      <td>60</td>\n",
       "      <td>170</td>\n",
       "    </tr>\n",
       "    <tr>\n",
       "      <th>student#4</th>\n",
       "      <td>55</td>\n",
       "      <td>160</td>\n",
       "    </tr>\n",
       "  </tbody>\n",
       "</table>\n",
       "</div>"
      ],
      "text/plain": [
       "           weight  height\n",
       "student#1      45     155\n",
       "student#2      50     156\n",
       "student#3      60     170\n",
       "student#4      55     160"
      ]
     },
     "execution_count": 13,
     "metadata": {},
     "output_type": "execute_result"
    }
   ],
   "source": [
    "df.index = ['student#1','student#2','student#3','student#4']\n",
    "df"
   ]
  },
  {
   "cell_type": "markdown",
   "id": "81cf477f",
   "metadata": {},
   "source": [
    "### using function head() to show as first two rows"
   ]
  },
  {
   "cell_type": "code",
   "execution_count": 19,
   "id": "42229fef",
   "metadata": {},
   "outputs": [
    {
     "data": {
      "text/html": [
       "<div>\n",
       "<style scoped>\n",
       "    .dataframe tbody tr th:only-of-type {\n",
       "        vertical-align: middle;\n",
       "    }\n",
       "\n",
       "    .dataframe tbody tr th {\n",
       "        vertical-align: top;\n",
       "    }\n",
       "\n",
       "    .dataframe thead th {\n",
       "        text-align: right;\n",
       "    }\n",
       "</style>\n",
       "<table border=\"1\" class=\"dataframe\">\n",
       "  <thead>\n",
       "    <tr style=\"text-align: right;\">\n",
       "      <th></th>\n",
       "      <th>weight</th>\n",
       "      <th>height</th>\n",
       "    </tr>\n",
       "  </thead>\n",
       "  <tbody>\n",
       "    <tr>\n",
       "      <th>student#1</th>\n",
       "      <td>45</td>\n",
       "      <td>155</td>\n",
       "    </tr>\n",
       "    <tr>\n",
       "      <th>student#2</th>\n",
       "      <td>50</td>\n",
       "      <td>156</td>\n",
       "    </tr>\n",
       "  </tbody>\n",
       "</table>\n",
       "</div>"
      ],
      "text/plain": [
       "           weight  height\n",
       "student#1      45     155\n",
       "student#2      50     156"
      ]
     },
     "execution_count": 19,
     "metadata": {},
     "output_type": "execute_result"
    }
   ],
   "source": [
    "df_head = df.head(2)\n",
    "df_head"
   ]
  },
  {
   "cell_type": "markdown",
   "id": "98348393",
   "metadata": {},
   "source": [
    "### using function tail() to show as last two rows"
   ]
  },
  {
   "cell_type": "code",
   "execution_count": 21,
   "id": "d7b3a890",
   "metadata": {},
   "outputs": [
    {
     "data": {
      "text/html": [
       "<div>\n",
       "<style scoped>\n",
       "    .dataframe tbody tr th:only-of-type {\n",
       "        vertical-align: middle;\n",
       "    }\n",
       "\n",
       "    .dataframe tbody tr th {\n",
       "        vertical-align: top;\n",
       "    }\n",
       "\n",
       "    .dataframe thead th {\n",
       "        text-align: right;\n",
       "    }\n",
       "</style>\n",
       "<table border=\"1\" class=\"dataframe\">\n",
       "  <thead>\n",
       "    <tr style=\"text-align: right;\">\n",
       "      <th></th>\n",
       "      <th>weight</th>\n",
       "      <th>height</th>\n",
       "    </tr>\n",
       "  </thead>\n",
       "  <tbody>\n",
       "    <tr>\n",
       "      <th>student#3</th>\n",
       "      <td>60</td>\n",
       "      <td>170</td>\n",
       "    </tr>\n",
       "    <tr>\n",
       "      <th>student#4</th>\n",
       "      <td>55</td>\n",
       "      <td>160</td>\n",
       "    </tr>\n",
       "  </tbody>\n",
       "</table>\n",
       "</div>"
      ],
      "text/plain": [
       "           weight  height\n",
       "student#3      60     170\n",
       "student#4      55     160"
      ]
     },
     "execution_count": 21,
     "metadata": {},
     "output_type": "execute_result"
    }
   ],
   "source": [
    "df_tail = df.tail(2)\n",
    "df_tail"
   ]
  },
  {
   "cell_type": "markdown",
   "id": "a7031957",
   "metadata": {},
   "source": [
    "### using attribute shape to check shape of data frame"
   ]
  },
  {
   "cell_type": "code",
   "execution_count": 23,
   "id": "60ef76ef",
   "metadata": {},
   "outputs": [
    {
     "data": {
      "text/plain": [
       "(4, 2)"
      ]
     },
     "execution_count": 23,
     "metadata": {},
     "output_type": "execute_result"
    }
   ],
   "source": [
    "shape = df.shape\n",
    "shape"
   ]
  },
  {
   "cell_type": "markdown",
   "id": "1c062f89",
   "metadata": {},
   "source": [
    "### using attribute info to check information of data frame"
   ]
  },
  {
   "cell_type": "code",
   "execution_count": 24,
   "id": "a5bb14ca",
   "metadata": {},
   "outputs": [
    {
     "name": "stdout",
     "output_type": "stream",
     "text": [
      "<class 'pandas.core.frame.DataFrame'>\n",
      "Index: 4 entries, student#1 to student#4\n",
      "Data columns (total 2 columns):\n",
      " #   Column  Non-Null Count  Dtype\n",
      "---  ------  --------------  -----\n",
      " 0   weight  4 non-null      int64\n",
      " 1   height  4 non-null      int64\n",
      "dtypes: int64(2)\n",
      "memory usage: 96.0+ bytes\n"
     ]
    }
   ],
   "source": [
    "df_info = df.info()\n",
    "df_info"
   ]
  },
  {
   "cell_type": "markdown",
   "id": "a29dbc0a",
   "metadata": {},
   "source": [
    "### using function loc to find the information of\n",
    "weight     55\n",
    "height    160"
   ]
  },
  {
   "cell_type": "code",
   "execution_count": 25,
   "id": "05c62e8f",
   "metadata": {},
   "outputs": [
    {
     "data": {
      "text/html": [
       "<div>\n",
       "<style scoped>\n",
       "    .dataframe tbody tr th:only-of-type {\n",
       "        vertical-align: middle;\n",
       "    }\n",
       "\n",
       "    .dataframe tbody tr th {\n",
       "        vertical-align: top;\n",
       "    }\n",
       "\n",
       "    .dataframe thead th {\n",
       "        text-align: right;\n",
       "    }\n",
       "</style>\n",
       "<table border=\"1\" class=\"dataframe\">\n",
       "  <thead>\n",
       "    <tr style=\"text-align: right;\">\n",
       "      <th></th>\n",
       "      <th>weight</th>\n",
       "      <th>height</th>\n",
       "    </tr>\n",
       "  </thead>\n",
       "  <tbody>\n",
       "    <tr>\n",
       "      <th>student#4</th>\n",
       "      <td>55</td>\n",
       "      <td>160</td>\n",
       "    </tr>\n",
       "  </tbody>\n",
       "</table>\n",
       "</div>"
      ],
      "text/plain": [
       "           weight  height\n",
       "student#4      55     160"
      ]
     },
     "execution_count": 25,
     "metadata": {},
     "output_type": "execute_result"
    }
   ],
   "source": [
    "\n",
    "df_loc =df.loc[(df['weight'] == 55) & (df['height'] == 160)]\n",
    "df_loc"
   ]
  },
  {
   "cell_type": "markdown",
   "id": "7ae4a332",
   "metadata": {},
   "source": [
    "## +++++++++++++++++++++++++++++++++++++++\n",
    "## Using Read csv file\n",
    "### nba-2.csv\n",
    "### create data frame name as \"dfNBA\""
   ]
  },
  {
   "cell_type": "code",
   "execution_count": 35,
   "id": "8d89cc86",
   "metadata": {},
   "outputs": [],
   "source": [
    "#same path of folder of file ipython\n",
    "dfNBA = pd.read_csv('nba-2.csv')\n",
    "\n"
   ]
  },
  {
   "cell_type": "code",
   "execution_count": 39,
   "id": "b14b4953",
   "metadata": {},
   "outputs": [
    {
     "ename": "ModuleNotFoundError",
     "evalue": "No module named 'google'",
     "output_type": "error",
     "traceback": [
      "\u001b[1;31m---------------------------------------------------------------------------\u001b[0m",
      "\u001b[1;31mModuleNotFoundError\u001b[0m                       Traceback (most recent call last)",
      "Cell \u001b[1;32mIn[39], line 2\u001b[0m\n\u001b[0;32m      1\u001b[0m \u001b[38;5;66;03m##location of file on Doogle Drive \u001b[39;00m\n\u001b[1;32m----> 2\u001b[0m \u001b[38;5;28;01mfrom\u001b[39;00m \u001b[38;5;21;01mgoogle\u001b[39;00m\u001b[38;5;21;01m.\u001b[39;00m\u001b[38;5;21;01mcolab\u001b[39;00m \u001b[38;5;28;01mimport\u001b[39;00m drive\n\u001b[0;32m      3\u001b[0m \u001b[38;5;28;01mimport\u001b[39;00m \u001b[38;5;21;01mpandas\u001b[39;00m \u001b[38;5;28;01mas\u001b[39;00m \u001b[38;5;21;01mpd\u001b[39;00m\n\u001b[0;32m      5\u001b[0m \u001b[38;5;66;03m# Mount Google Drive\u001b[39;00m\n",
      "\u001b[1;31mModuleNotFoundError\u001b[0m: No module named 'google'"
     ]
    }
   ],
   "source": [
    "##location of file on Doogle Drive \n",
    "# from google.colab import drive\n",
    "# drive.mount('/content/drive')\n",
    "# data_dir = \"drive/My Drive/SE-Lectures-Materials/Intro to Data Analysis/nba-2.csv\""
   ]
  },
  {
   "cell_type": "markdown",
   "id": "ec07ae2f",
   "metadata": {},
   "source": [
    "### Using function count() to check total of members"
   ]
  },
  {
   "cell_type": "code",
   "execution_count": 34,
   "id": "0f099134",
   "metadata": {},
   "outputs": [
    {
     "data": {
      "text/plain": [
       "Team        457\n",
       "Number      457\n",
       "Position    457\n",
       "Age         457\n",
       "Height      457\n",
       "Weight      457\n",
       "College     373\n",
       "Salary      446\n",
       "dtype: int64"
      ]
     },
     "execution_count": 34,
     "metadata": {},
     "output_type": "execute_result"
    }
   ],
   "source": [
    "dfNBA.count()"
   ]
  },
  {
   "cell_type": "markdown",
   "id": "5e2e5e67",
   "metadata": {},
   "source": [
    "### Using function set_index() to set column \"Name\" to be index data\n",
    "then show first 10 rows records"
   ]
  },
  {
   "cell_type": "code",
   "execution_count": 36,
   "id": "836cdc14",
   "metadata": {},
   "outputs": [
    {
     "name": "stdout",
     "output_type": "stream",
     "text": [
      "                         Team  Number Position   Age Height  Weight  \\\n",
      "Name                                                                  \n",
      "Avery Bradley  Boston Celtics     0.0       PG  25.0    6-2   180.0   \n",
      "Jae Crowder    Boston Celtics    99.0       SF  25.0    6-6   235.0   \n",
      "John Holland   Boston Celtics    30.0       SG  27.0    6-5   205.0   \n",
      "R.J. Hunter    Boston Celtics    28.0       SG  22.0    6-5   185.0   \n",
      "Jonas Jerebko  Boston Celtics     8.0       PF  29.0   6-10   231.0   \n",
      "...                       ...     ...      ...   ...    ...     ...   \n",
      "Shelvin Mack        Utah Jazz     8.0       PG  26.0    6-3   203.0   \n",
      "Raul Neto           Utah Jazz    25.0       PG  24.0    6-1   179.0   \n",
      "Tibor Pleiss        Utah Jazz    21.0        C  26.0    7-3   256.0   \n",
      "Jeff Withey         Utah Jazz    24.0        C  26.0    7-0   231.0   \n",
      "NaN                       NaN     NaN      NaN   NaN    NaN     NaN   \n",
      "\n",
      "                         College     Salary  \n",
      "Name                                         \n",
      "Avery Bradley              Texas  7730337.0  \n",
      "Jae Crowder            Marquette  6796117.0  \n",
      "John Holland   Boston University        NaN  \n",
      "R.J. Hunter        Georgia State  1148640.0  \n",
      "Jonas Jerebko                NaN  5000000.0  \n",
      "...                          ...        ...  \n",
      "Shelvin Mack              Butler  2433333.0  \n",
      "Raul Neto                    NaN   900000.0  \n",
      "Tibor Pleiss                 NaN  2900000.0  \n",
      "Jeff Withey               Kansas   947276.0  \n",
      "NaN                          NaN        NaN  \n",
      "\n",
      "[458 rows x 8 columns]\n"
     ]
    }
   ],
   "source": [
    "\n",
    "dfNBA.set_index(\"Name\", inplace=True)\n",
    "print(dfNBA)\n",
    "\n",
    "\n"
   ]
  },
  {
   "cell_type": "markdown",
   "id": "aa68707b",
   "metadata": {},
   "source": [
    "### Using attribute loc[ ] to find the information of \"Amir Johnson\" and \"Terry Rozier\" which shown in 3 columns ['Age', 'College', 'Salary']"
   ]
  },
  {
   "cell_type": "code",
   "execution_count": 37,
   "id": "c53a38d6",
   "metadata": {},
   "outputs": [
    {
     "name": "stdout",
     "output_type": "stream",
     "text": [
      "               Age     College      Salary\n",
      "Name                                      \n",
      "Amir Johnson  29.0         NaN  12000000.0\n",
      "Terry Rozier  22.0  Louisville   1824360.0\n"
     ]
    }
   ],
   "source": [
    "player_info = dfNBA.loc[[\"Amir Johnson\", \"Terry Rozier\"], [\"Age\", \"College\", \"Salary\"]]\n",
    "print(player_info)\n",
    "\n",
    "\n"
   ]
  },
  {
   "cell_type": "markdown",
   "id": "da4240f0",
   "metadata": {},
   "source": [
    "### Using function loc() to find the all information in 3 columns ['Age', 'College', 'Salary'] then show first 5 rows"
   ]
  },
  {
   "cell_type": "code",
   "execution_count": 38,
   "id": "ceafc9bf",
   "metadata": {},
   "outputs": [
    {
     "name": "stdout",
     "output_type": "stream",
     "text": [
      "                Age            College     Salary\n",
      "Name                                             \n",
      "Avery Bradley  25.0              Texas  7730337.0\n",
      "Jae Crowder    25.0          Marquette  6796117.0\n",
      "John Holland   27.0  Boston University        NaN\n",
      "R.J. Hunter    22.0      Georgia State  1148640.0\n",
      "Jonas Jerebko  29.0                NaN  5000000.0\n"
     ]
    }
   ],
   "source": [
    "#Selecting all of the rows and some columns\n",
    "selected_info = dfNBA.loc[:, ['Age', 'College', 'Salary']]\n",
    "print(selected_info.head())\n",
    "\n",
    "\n"
   ]
  },
  {
   "cell_type": "markdown",
   "id": "cf6d8477",
   "metadata": {},
   "source": [
    "# Good Job!"
   ]
  }
 ],
 "metadata": {
  "kernelspec": {
   "display_name": "Python 3 (ipykernel)",
   "language": "python",
   "name": "python3"
  },
  "language_info": {
   "codemirror_mode": {
    "name": "ipython",
    "version": 3
   },
   "file_extension": ".py",
   "mimetype": "text/x-python",
   "name": "python",
   "nbconvert_exporter": "python",
   "pygments_lexer": "ipython3",
   "version": "3.11.5"
  }
 },
 "nbformat": 4,
 "nbformat_minor": 5
}
